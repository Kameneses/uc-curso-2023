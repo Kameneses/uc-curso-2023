{
 "cells": [
  {
   "cell_type": "markdown",
   "metadata": {
    "slideshow": {
     "slide_type": "-"
    }
   },
   "source": [
    "Solución ejercicios SQLAlchemy  \n",
    "==========================="
   ]
  },
  {
   "cell_type": "markdown",
   "metadata": {},
   "source": [
    "## Ejercicios\n",
    "\n",
    "1. Defina dos tablas (users y accounts) haciendo uso de SQLAlchemy con los siguientes atributos:\n",
    "    * users: \n",
    "        - user_id: tipo Integer, es primary_key\n",
    "        - username: tipo String, no pueder ser nulo, tiene que ser único\n",
    "        - email_address: tipo String, no puede ser nulo\n",
    "        - phone: tipo String, no puede ser nulo\n",
    "        - password: tipo String, no puede ser nulo\n",
    "        - created_on: tipo DateTime, tien por defecto la hora de creación\n",
    "    * accounts:\n",
    "        - accounts_id: tipo Integer, es primary_key\n",
    "        - user_id: es ForeignKey de users.user_id\n",
    "        - iban: tipo String\n",
    "        - bic: tipo String\n",
    "        - money: tipo Numeric con 2 decimales\n",
    "        \n",
    "2. Cree las tablas anteriormente definidas con ayuda de un conector SQLite en un fichero de nombre `test.db`. \n",
    "3. Introducta al menos 3 valores por cada tabla.\n",
    "4. Lea todos los valores de las tablas para comprobar se han introducido de forma correcta. "
   ]
  },
  {
   "cell_type": "code",
   "execution_count": 98,
   "metadata": {},
   "outputs": [],
   "source": [
    "from datetime import datetime\n",
    "from sqlalchemy import Integer, Numeric, String, DateTime, MetaData, ForeignKey\n",
    "\n",
    "metadata = MetaData()\n",
    "\n",
    "users = Table('users', metadata,\n",
    "              Column('user_id', Integer(), primary_key=True),\n",
    "              Column('username', String(15), nullable=False, unique=True),\n",
    "              Column('email_address', String(255), nullable=False),\n",
    "              Column('phone', String(20), nullable=False),\n",
    "              Column('password', String(25), nullable=False),\n",
    "              Column('created_on', DateTime(), default=datetime.now)\n",
    "             )\n",
    "\n",
    "\n",
    "accounts = Table('accounts', metadata,\n",
    "                   Column('accounts_id', Integer(), primary_key=True),\n",
    "                   Column('user_id', ForeignKey('users.user_id')),\n",
    "                   Column('iban', String(24)),\n",
    "                   Column('bic', String(11)),\n",
    "                   Column('money', Numeric(12, 2))\n",
    "                )\n"
   ]
  },
  {
   "cell_type": "code",
   "execution_count": 99,
   "metadata": {},
   "outputs": [],
   "source": [
    "engine = create_engine('sqlite:///test.db')\n",
    "metadata.create_all(engine)"
   ]
  }
 ],
 "metadata": {
  "kernelspec": {
   "display_name": "Python 3",
   "language": "python",
   "name": "python3"
  },
  "language_info": {
   "codemirror_mode": {
    "name": "ipython",
    "version": 3
   },
   "file_extension": ".py",
   "mimetype": "text/x-python",
   "name": "python",
   "nbconvert_exporter": "python",
   "pygments_lexer": "ipython3",
   "version": "3.7.3"
  }
 },
 "nbformat": 4,
 "nbformat_minor": 1
}
