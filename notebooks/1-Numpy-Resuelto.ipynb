{
 "cells": [
  {
   "cell_type": "markdown",
   "id": "8e500899",
   "metadata": {},
   "source": [
    "# Ejercicios resueltos:\n",
    "Aquí os ofrecemos una posible solución de los ejercicios propuestos:"
   ]
  },
  {
   "cell_type": "code",
   "execution_count": null,
   "id": "35a844e9",
   "metadata": {},
   "outputs": [],
   "source": [
    "import numpy as np\n",
    "import matplotlib.pyplot as plt"
   ]
  },
  {
   "cell_type": "markdown",
   "id": "88c200b0",
   "metadata": {},
   "source": [
    "# Numpy "
   ]
  },
  {
   "cell_type": "markdown",
   "id": "dd0af420",
   "metadata": {},
   "source": [
    "1. Crea 3 arrays con numpy uno que contenga 100 cincos. Otros que contenga valores de 15 a 155 (incluyendo el ambos), en intervalos de 5 (15, 20, 25) y otro que contenga 100 números aleatorios que sigan una distribución de Poisson."
   ]
  },
  {
   "cell_type": "code",
   "execution_count": 29,
   "id": "bd3f5290",
   "metadata": {},
   "outputs": [],
   "source": [
    "import numpy as np\n",
    "array1 = np.ones(100) * 5  # o array1 = np.zeros(100) + 5\n",
    "array2 = np.arange(15,156,5)\n",
    "array3 = np.random.poisson(size = 100)"
   ]
  },
  {
   "cell_type": "markdown",
   "id": "653d423b",
   "metadata": {},
   "source": [
    "**2.** Genera 2 matrices de dimensiones 2 x 3. Busca las funciones de numpy para concatenar matrices y:\n",
    "\n",
    "2.1 Unélas en una matriz 4 x 3\n",
    "\n",
    "2.2 Unélas en una matriz de 2 x 6"
   ]
  },
  {
   "cell_type": "code",
   "execution_count": null,
   "id": "c465d604",
   "metadata": {},
   "outputs": [],
   "source": [
    "m1=np.array([[1,2,3],[4,5,6]])\n",
    "\n",
    "m2=np.array([[7,8,9],[10,11,12]])\n",
    "\n",
    "m4_3=np.concatenate((m1,m2), axis=1)\n",
    "\n",
    "print(m4_3)"
   ]
  },
  {
   "cell_type": "markdown",
   "id": "e795e59b",
   "metadata": {},
   "source": [
    "3. Con los siguientes datos.\n",
    "\n",
    "3.1 Haz fit con un polinomio de grado 2 y otro de grado 4. \n",
    "\n",
    "3.2 Evalúa cual de los dos polinomios ajusta mejor a los datos (puedes usar la distancia entre cada uno de los puntos estimados con el fit y el valor real)\n",
    "\n",
    "3.3 Comprueba con otros fits que cuanto más alto es el grado del polinomio te da menor la diferencia\n",
    "\n",
    "¡Eso NO implica que el ajuste sea más válido! \n"
   ]
  },
  {
   "cell_type": "code",
   "execution_count": 30,
   "id": "05a390ba",
   "metadata": {},
   "outputs": [],
   "source": [
    "x = np.array([ 3.08,  3.1 ,  3.12,  3.14,  3.16,  3.18,  3.2 ,  3.22,  3.24,\n",
    "    3.26,  3.28,  3.3 ,  3.32,  3.34,  3.36,  3.38,  3.4 ,  3.42,\n",
    "    3.44,  3.46,  3.48,  3.5 ,  3.52,  3.54,  3.56,  3.58,  3.6 ,\n",
    "    3.62,  3.64,  3.66,  3.68])\n",
    "y = np.array([ 0.000857,  0.001182,  0.001619,  0.002113,  0.002702,  0.003351,\n",
    "    0.004062,  0.004754,  0.00546 ,  0.006183,  0.006816,  0.007362,\n",
    "    0.007844,  0.008207,  0.008474,  0.008541,  0.008539,  0.008445,\n",
    "    0.008251,  0.007974,  0.007608,  0.007193,  0.006752,  0.006269,\n",
    "    0.005799,  0.005302,  0.004822,  0.004339,  0.00391 ,  0.003481,\n",
    "    0.003095])"
   ]
  },
  {
   "cell_type": "code",
   "execution_count": 112,
   "id": "97726b58",
   "metadata": {},
   "outputs": [
    {
     "name": "stdout",
     "output_type": "stream",
     "text": [
      "the minimum squared error with def 2 is 2.15E-07\n",
      "the minimum squared error with def 10 is 1.52E-10\n"
     ]
    },
    {
     "name": "stderr",
     "output_type": "stream",
     "text": [
      "/var/folders/8n/8gxx65_52xq17qlkhphqy2hm0000gn/T/ipykernel_43545/1214988036.py:12: RankWarning: Polyfit may be poorly conditioned\n",
      "  plotFit(x, y, 10)\n"
     ]
    },
    {
     "data": {
      "image/png": "[encoded data removed]",
      "text/plain": [
       "<Figure size 432x288 with 1 Axes>"
      ]
     },
     "metadata": {
      "needs_background": "light"
     },
     "output_type": "display_data"
    }
   ],
   "source": [
    "def plotFit(x,y,deg):\n",
    "    \"\"\"Performs fit to x and y with a polynomial of degree deg\n",
    "       Also plots fit with label name\n",
    "       and computes mse between fit an real vals\"\"\"\n",
    "    par = np.polyfit(x,y,deg)\n",
    "    obj1 = np.poly1d(par)   # guardas el polinomio dados unos coeficientes\n",
    "    plt.plot(x, obj1(x),label = 'degree' + str(deg)) \n",
    "    print(f'the minimum squared error with def {deg} is {np.mean((y -obj1(x))**2):.2E}')\n",
    "    \n",
    "plt.plot(x ,y,'*')\n",
    "plotFit(x, y, 2)\n",
    "plotFit(x, y, 10)\n",
    "plt.legend()\n",
    "plt.show()\n",
    "\n",
    "\n",
    "# Que de mejor el ajuste no quiere decir que sea más ajustado a la \n",
    "# realidad. Podemos estar haciendo overfitting\n"
   ]
  },
  {
   "cell_type": "markdown",
   "id": "613d4a21",
   "metadata": {},
   "source": [
    "4. Descara el fichero [núcleos de población](https://raw.githubusercontent.com/blancojc/pythonforbigdata/master/UC_Curso_de_Verano/Dia2/Pandas/Ejercicio1/Centroides_NucleosPoblacion.csv) y responde a las siguientes preguntas:\n",
    "\n",
    "* Cuantos municipios tienen menos de 11000 habitantes? \n",
    "\n",
    "* Haz un programa que encuentre cuántos habitantes suman los municipios de un mismo código postal. \n",
    "\n",
    "* Haz una gráfica con eje x código postal y eje y la suma de habitantes de sus municipios\n",
    "\n",
    "léelo con pandas, pero pasa la columna con la que vayas a trabajar a un array y encuentra el resultado con numpy.\n",
    "\n",
    "4.1 Si quieres repite el ejercicio pero solo usando pandas."
   ]
  },
  {
   "cell_type": "code",
   "execution_count": 12,
   "id": "d30d6879",
   "metadata": {},
   "outputs": [
    {
     "name": "stdout",
     "output_type": "stream",
     "text": [
      "Hay 60 municipios con menos de 11000 habitantes\n"
     ]
    }
   ],
   "source": [
    "# 4 \n",
    "import pandas as pd\n",
    "df = pd.read_csv( \"https://raw.githubusercontent.com/blancojc/pythonforbigdata/master/UC_Curso_de_Verano/Dia2/Pandas/Ejercicio1/Centroides_NucleosPoblacion.csv\" )\n",
    "pob = np.array(df[\"Poblacion\"])\n",
    "cod = np.array(df[\"CodMun\"])\n",
    "NumMunLow = len(np.where(pob<11000)[0])\n",
    "print('Hay ' + str(NumMunLow) + ' municipios con menos de 11000 habitantes')"
   ]
  },
  {
   "cell_type": "code",
   "execution_count": 13,
   "id": "8291a610",
   "metadata": {},
   "outputs": [],
   "source": [
    "codPost = np.unique(cod)\n",
    "TotPob = np.zeros(len(codPost))\n",
    "\n",
    "for i,code in enumerate(codPost):\n",
    "    pos = np.where(cod == code)\n",
    "    TotPob[i] = pob[pos].sum()"
   ]
  },
  {
   "cell_type": "code",
   "execution_count": 14,
   "id": "412cb8ae",
   "metadata": {},
   "outputs": [
    {
     "data": {
      "text/plain": [
       "Text(0.5, 0, 'código postal')"
      ]
     },
     "execution_count": 14,
     "metadata": {},
     "output_type": "execute_result"
    },
    {
     "data": {
      "image/png": "[encoded data removed]",
      "text/plain": [
       "<Figure size 432x288 with 1 Axes>"
      ]
     },
     "metadata": {
      "needs_background": "light"
     },
     "output_type": "display_data"
    }
   ],
   "source": [
    "pltplot(codPost,TotPob)\n",
    "pltylabel('Total habitantes')\n",
    "pltxlabel('código postal')\n"
   ]
  }
 ],
 "metadata": {
  "kernelspec": {
   "display_name": "Python 3 (ipykernel)",
   "language": "python",
   "name": "python3"
  },
  "language_info": {
   "codemirror_mode": {
    "name": "ipython",
    "version": 3
   },
   "file_extension": ".py",
   "mimetype": "text/x-python",
   "name": "python",
   "nbconvert_exporter": "python",
   "pygments_lexer": "ipython3",
   "version": "3.10.0"
  }
 },
 "nbformat": 4,
 "nbformat_minor": 5
}
